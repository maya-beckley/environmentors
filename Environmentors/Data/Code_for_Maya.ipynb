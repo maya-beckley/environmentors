{
 "cells": [
  {
   "cell_type": "code",
   "execution_count": null,
   "id": "62824dec",
   "metadata": {},
   "outputs": [],
   "source": [
    "import numpy as np\n",
    "import pandas as pd\n",
    "import matplotlib.pyplot as plt\n",
    "#THESE ARE THE PACKAGES I WOULD SUGGEST FOR SIMPLE DATA ANALYSIS\n",
    "\n",
    "df = pd.read_csv(r'C:\\YOUR\\DIRECTORY\\PATH\\SOME_FILE.csv') #You'll need to change this based on your OS and directories \n",
    "\n",
    "df['TmStamp'] = pd.to_datetime(df['TmStamp'], format='%Y-%m-%d %H:%M:%S') #<- this might need altered slightly\n",
    "\n",
    "df = df.set_index(\"TmStamp\") #Putting the time as the index is powerful you can reset it if needed\n",
    "\n",
    "#---------------- YOUR ANALYSIS CODE.... -----------------\n",
    "\n",
    "df.to_csv ('SOME_FILE_OUTPUT.csv', index = False, header=True) #save it out ... can put a directory path like above"
   ]
  }
 ],
 "metadata": {
  "kernelspec": {
   "display_name": "Python 3 (ipykernel)",
   "language": "python",
   "name": "python3"
  },
  "language_info": {
   "codemirror_mode": {
    "name": "ipython",
    "version": 3
   },
   "file_extension": ".py",
   "mimetype": "text/x-python",
   "name": "python",
   "nbconvert_exporter": "python",
   "pygments_lexer": "ipython3",
   "version": "3.9.12"
  }
 },
 "nbformat": 4,
 "nbformat_minor": 5
}
